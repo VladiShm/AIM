{
 "cells": [
  {
   "cell_type": "code",
   "execution_count": 2,
   "metadata": {},
   "outputs": [],
   "source": [
    "import pandas as pd\n",
    "from sklearn.datasets import load_iris\n",
    "from sklearn.model_selection import train_test_split\n",
    "from sklearn.preprocessing import MaxAbsScaler, StandardScaler, RobustScaler, PowerTransformer, Normalizer\n",
    "from sklearn.neighbors import KNeighborsClassifier\n",
    "from sklearn.linear_model import LogisticRegression\n",
    "from sklearn.ensemble import RandomForestClassifier\n",
    "from sklearn.linear_model import LogisticRegression\n",
    "from sklearn.metrics import accuracy_score"
   ]
  },
  {
   "cell_type": "markdown",
   "metadata": {},
   "source": [
    "Задача 1.\n",
    "1.Исследовать качество работы классификаторы в зависимости от выбранного метода преобразования данных\n",
    "2.Изучить методы преобразования данных: from sklearn.preprocessing https://scikit-learn.org/stable/modules/preprocessing.html\n",
    "3.Критерий качества - accuracy\n",
    "4.Сформировать таблицу для сравнения"
   ]
  },
  {
   "cell_type": "code",
   "execution_count": 3,
   "metadata": {},
   "outputs": [],
   "source": [
    "iris_data = load_iris()\n",
    "X, y = iris_data.data, iris_data.target\n",
    "X_train, X_test, y_train, y_test = train_test_split(X, y, test_size=0.2, random_state=42)"
   ]
  },
  {
   "cell_type": "markdown",
   "metadata": {},
   "source": [
    "С сайта https://scikit-learn.org/stable/modules/preprocessing.html были выбраны следующие методы для преобразования данных:\n",
    "1. MaxAbsScaler\n",
    "2. StandardScaler\n",
    "3. RobustScaler\n",
    "4. PowerTransformer\n",
    "5. Normalizer"
   ]
  },
  {
   "cell_type": "code",
   "execution_count": 4,
   "metadata": {},
   "outputs": [],
   "source": [
    "scalers = {\n",
    "    'MaxAbsScaler': MaxAbsScaler(),\n",
    "    'StandardScaler': StandardScaler(),\n",
    "    'RobustScaler': RobustScaler(),\n",
    "    'PowerTransformer': PowerTransformer(),\n",
    "    'Normalizer': Normalizer()\n",
    "}"
   ]
  },
  {
   "cell_type": "markdown",
   "metadata": {},
   "source": [
    "Были выбраны следующие классификаторы:\n",
    "1. K Ближайших соседей\n",
    "2. Логистическая регресся\n",
    "3. Случайный лес"
   ]
  },
  {
   "cell_type": "code",
   "execution_count": 5,
   "metadata": {},
   "outputs": [],
   "source": [
    "classifiers = {\n",
    "    'KNeighborsClassifier': KNeighborsClassifier(),\n",
    "    'LogisticRegression': LogisticRegression(max_iter=200, random_state=42),\n",
    "    'RandomForestClassifier': RandomForestClassifier(random_state=42)\n",
    "}"
   ]
  },
  {
   "cell_type": "code",
   "execution_count": 6,
   "metadata": {},
   "outputs": [],
   "source": [
    "results = []\n",
    "\n",
    "for scaler_name, scaler in scalers.items():\n",
    "    X_train_scaled = scaler.fit_transform(X_train)\n",
    "    X_test_scaled = scaler.transform(X_test)\n",
    "    \n",
    "    for clf_name, clf in classifiers.items():\n",
    "        clf.fit(X_train_scaled, y_train)\n",
    "        \n",
    "        y_pred = clf.predict(X_test_scaled)\n",
    "        accuracy = accuracy_score(y_test, y_pred)\n",
    "        \n",
    "        results.append({'Метод преобразования': scaler_name, 'Классификатор': clf_name, 'Accuracy': accuracy})"
   ]
  },
  {
   "cell_type": "markdown",
   "metadata": {},
   "source": [
    "Результирующая таблица сравнения работы классификатора в зависимости от метода преобразования данных"
   ]
  },
  {
   "cell_type": "code",
   "execution_count": 7,
   "metadata": {},
   "outputs": [
    {
     "name": "stdout",
     "output_type": "stream",
     "text": [
      "   Метод преобразования           Классификатор  Accuracy\n",
      "0          MaxAbsScaler    KNeighborsClassifier  1.000000\n",
      "1          MaxAbsScaler      LogisticRegression  0.966667\n",
      "2          MaxAbsScaler  RandomForestClassifier  1.000000\n",
      "3        StandardScaler    KNeighborsClassifier  1.000000\n",
      "4        StandardScaler      LogisticRegression  1.000000\n",
      "5        StandardScaler  RandomForestClassifier  1.000000\n",
      "6          RobustScaler    KNeighborsClassifier  1.000000\n",
      "7          RobustScaler      LogisticRegression  1.000000\n",
      "8          RobustScaler  RandomForestClassifier  1.000000\n",
      "9      PowerTransformer    KNeighborsClassifier  1.000000\n",
      "10     PowerTransformer      LogisticRegression  1.000000\n",
      "11     PowerTransformer  RandomForestClassifier  1.000000\n",
      "12           Normalizer    KNeighborsClassifier  1.000000\n",
      "13           Normalizer      LogisticRegression  0.933333\n",
      "14           Normalizer  RandomForestClassifier  0.966667\n"
     ]
    }
   ],
   "source": [
    "results_df = pd.DataFrame(results)\n",
    "print(results_df)\n"
   ]
  },
  {
   "cell_type": "markdown",
   "metadata": {},
   "source": [
    "Все выбранные методы показали высокую точность в результате работы"
   ]
  }
 ],
 "metadata": {
  "kernelspec": {
   "display_name": "Python 3",
   "language": "python",
   "name": "python3"
  },
  "language_info": {
   "codemirror_mode": {
    "name": "ipython",
    "version": 3
   },
   "file_extension": ".py",
   "mimetype": "text/x-python",
   "name": "python",
   "nbconvert_exporter": "python",
   "pygments_lexer": "ipython3",
   "version": "3.12.1"
  }
 },
 "nbformat": 4,
 "nbformat_minor": 2
}
